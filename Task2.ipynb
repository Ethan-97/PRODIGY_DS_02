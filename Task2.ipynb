{
  "nbformat": 4,
  "nbformat_minor": 0,
  "metadata": {
    "colab": {
      "provenance": []
    },
    "kernelspec": {
      "name": "python3",
      "display_name": "Python 3"
    },
    "language_info": {
      "name": "python"
    }
  },
  "cells": [
    {
      "cell_type": "markdown",
      "source": [
        "# **Task 2: Perform data cleaning and exploratory data analysis (EDA) on a dataset of your choice, such as the Titanic dataset from Kaggle. Explore the relationships between variables and identify patterns and trends in the data.**"
      ],
      "metadata": {
        "id": "M3L4rf5AzJiC"
      }
    },
    {
      "cell_type": "code",
      "execution_count": 1,
      "metadata": {
        "colab": {
          "base_uri": "https://localhost:8080/"
        },
        "id": "NqekzkMuxJxi",
        "outputId": "f0b9d727-4269-4dda-b91a-27ff0d5c18c0"
      },
      "outputs": [
        {
          "output_type": "execute_result",
          "data": {
            "text/plain": [
              "(   PassengerId  Survived  Pclass  \\\n",
              " 0            1         0       3   \n",
              " 1            2         1       1   \n",
              " 2            3         1       3   \n",
              " 3            4         1       1   \n",
              " 4            5         0       3   \n",
              " \n",
              "                                                 Name     Sex   Age  SibSp  \\\n",
              " 0                            Braund, Mr. Owen Harris    male  22.0      1   \n",
              " 1  Cumings, Mrs. John Bradley (Florence Briggs Th...  female  38.0      1   \n",
              " 2                             Heikkinen, Miss. Laina  female  26.0      0   \n",
              " 3       Futrelle, Mrs. Jacques Heath (Lily May Peel)  female  35.0      1   \n",
              " 4                           Allen, Mr. William Henry    male  35.0      0   \n",
              " \n",
              "    Parch            Ticket     Fare Cabin Embarked  \n",
              " 0      0         A/5 21171   7.2500   NaN        S  \n",
              " 1      0          PC 17599  71.2833   C85        C  \n",
              " 2      0  STON/O2. 3101282   7.9250   NaN        S  \n",
              " 3      0            113803  53.1000  C123        S  \n",
              " 4      0            373450   8.0500   NaN        S  ,\n",
              "    PassengerId  Pclass                                          Name     Sex  \\\n",
              " 0          892       3                              Kelly, Mr. James    male   \n",
              " 1          893       3              Wilkes, Mrs. James (Ellen Needs)  female   \n",
              " 2          894       2                     Myles, Mr. Thomas Francis    male   \n",
              " 3          895       3                              Wirz, Mr. Albert    male   \n",
              " 4          896       3  Hirvonen, Mrs. Alexander (Helga E Lindqvist)  female   \n",
              " \n",
              "     Age  SibSp  Parch   Ticket     Fare Cabin Embarked  \n",
              " 0  34.5      0      0   330911   7.8292   NaN        Q  \n",
              " 1  47.0      1      0   363272   7.0000   NaN        S  \n",
              " 2  62.0      0      0   240276   9.6875   NaN        Q  \n",
              " 3  27.0      0      0   315154   8.6625   NaN        S  \n",
              " 4  22.0      1      1  3101298  12.2875   NaN        S  )"
            ]
          },
          "metadata": {},
          "execution_count": 1
        }
      ],
      "source": [
        "# Importing necessary libraries\n",
        "import pandas as pd\n",
        "\n",
        "# Load the uploaded train and test datasets\n",
        "train_file_path = '/content/train_titanic.csv'\n",
        "test_file_path = '/content/test_titanic.csv'\n",
        "\n",
        "# Load the datasets into pandas dataframes\n",
        "train_data = pd.read_csv(train_file_path)\n",
        "test_data = pd.read_csv(test_file_path)\n",
        "\n",
        "# Preview the training and test datasets\n",
        "train_data.head(), test_data.head()"
      ]
    }
  ]
}