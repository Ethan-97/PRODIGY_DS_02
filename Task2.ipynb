{
  "nbformat": 4,
  "nbformat_minor": 0,
  "metadata": {
    "colab": {
      "provenance": []
    },
    "kernelspec": {
      "name": "python3",
      "display_name": "Python 3"
    },
    "language_info": {
      "name": "python"
    }
  },
  "cells": [
    {
      "cell_type": "markdown",
      "source": [
        "# **Task 2: Perform data cleaning and exploratory data analysis (EDA) on a dataset of your choice, such as the Titanic dataset from Kaggle. Explore the relationships between variables and identify patterns and trends in the data.**"
      ],
      "metadata": {
        "id": "M3L4rf5AzJiC"
      }
    },
    {
      "cell_type": "code",
      "execution_count": 1,
      "metadata": {
        "colab": {
          "base_uri": "https://localhost:8080/"
        },
        "id": "NqekzkMuxJxi",
        "outputId": "f0b9d727-4269-4dda-b91a-27ff0d5c18c0"
      },
      "outputs": [
        {
          "output_type": "execute_result",
          "data": {
            "text/plain": [
              "(   PassengerId  Survived  Pclass  \\\n",
              " 0            1         0       3   \n",
              " 1            2         1       1   \n",
              " 2            3         1       3   \n",
              " 3            4         1       1   \n",
              " 4            5         0       3   \n",
              " \n",
              "                                                 Name     Sex   Age  SibSp  \\\n",
              " 0                            Braund, Mr. Owen Harris    male  22.0      1   \n",
              " 1  Cumings, Mrs. John Bradley (Florence Briggs Th...  female  38.0      1   \n",
              " 2                             Heikkinen, Miss. Laina  female  26.0      0   \n",
              " 3       Futrelle, Mrs. Jacques Heath (Lily May Peel)  female  35.0      1   \n",
              " 4                           Allen, Mr. William Henry    male  35.0      0   \n",
              " \n",
              "    Parch            Ticket     Fare Cabin Embarked  \n",
              " 0      0         A/5 21171   7.2500   NaN        S  \n",
              " 1      0          PC 17599  71.2833   C85        C  \n",
              " 2      0  STON/O2. 3101282   7.9250   NaN        S  \n",
              " 3      0            113803  53.1000  C123        S  \n",
              " 4      0            373450   8.0500   NaN        S  ,\n",
              "    PassengerId  Pclass                                          Name     Sex  \\\n",
              " 0          892       3                              Kelly, Mr. James    male   \n",
              " 1          893       3              Wilkes, Mrs. James (Ellen Needs)  female   \n",
              " 2          894       2                     Myles, Mr. Thomas Francis    male   \n",
              " 3          895       3                              Wirz, Mr. Albert    male   \n",
              " 4          896       3  Hirvonen, Mrs. Alexander (Helga E Lindqvist)  female   \n",
              " \n",
              "     Age  SibSp  Parch   Ticket     Fare Cabin Embarked  \n",
              " 0  34.5      0      0   330911   7.8292   NaN        Q  \n",
              " 1  47.0      1      0   363272   7.0000   NaN        S  \n",
              " 2  62.0      0      0   240276   9.6875   NaN        Q  \n",
              " 3  27.0      0      0   315154   8.6625   NaN        S  \n",
              " 4  22.0      1      1  3101298  12.2875   NaN        S  )"
            ]
          },
          "metadata": {},
          "execution_count": 1
        }
      ],
      "source": [
        "# Importing necessary libraries\n",
        "import pandas as pd\n",
        "\n",
        "# Load the uploaded train and test datasets\n",
        "train_file_path = '/content/train_titanic.csv'\n",
        "test_file_path = '/content/test_titanic.csv'\n",
        "\n",
        "# Load the datasets into pandas dataframes\n",
        "train_data = pd.read_csv(train_file_path)\n",
        "test_data = pd.read_csv(test_file_path)\n",
        "\n",
        "# Preview the training and test datasets\n",
        "train_data.head(), test_data.head()"
      ]
    },
    {
      "cell_type": "markdown",
      "source": [
        "# Summary of Training Set\n",
        "\n",
        "The training dataset includes the following columns:\n",
        "\n",
        "**PassengerId**: A unique identifier for each passenger\n",
        "\n",
        "**Survived**: Survival status (0 = No, 1 = Yes).\n",
        "\n",
        "**Pclass**: Passenger class (1st = Upper, 2nd = Middle, 3rd = Lower).\n",
        "\n",
        "**Name**: Passenger's name.\n",
        "\n",
        "**Sex**: Gender of the passenger.\n",
        "\n",
        "**Age**: Age of the passenger.\n",
        "\n",
        "**SibSp**: Number of siblings or spouses aboard.\n",
        "\n",
        "**Parch**: Number of parents or children aboard. (NOTE: Some children travelled only with a nanny, therefore parch=0 for them.)\n",
        "\n",
        "**Ticket**: Ticket number.\n",
        "\n",
        "**Fare**: Ticket fare.\n",
        "\n",
        "**Cabin**: Cabin number (many missing values).\n",
        "\n",
        "**Embarked**: Port of embarkation (C = Cherbourg; Q = Queenstown; S = Southampton).\n",
        "\n",
        "# Summary of Test Set\n",
        "The test set contains the same columns, except it does not include the Survived column."
      ],
      "metadata": {
        "id": "Wlu3DCsU3fMo"
      }
    },
    {
      "cell_type": "markdown",
      "source": [
        "# **We will start by cleaning the data (handling/ replacing missing values)**"
      ],
      "metadata": {
        "id": "0bmvLR2w6H0m"
      }
    },
    {
      "cell_type": "code",
      "source": [
        "# Checking for missing values in both the training and test datasets\n",
        "train_missing = train_data.isnull().sum()\n",
        "test_missing = test_data.isnull().sum()\n",
        "\n",
        "train_missing, test_missing"
      ],
      "metadata": {
        "colab": {
          "base_uri": "https://localhost:8080/"
        },
        "id": "IInsPG5E4sxC",
        "outputId": "22cd44d7-07de-4ad5-ee84-64e612a4dc6b"
      },
      "execution_count": 2,
      "outputs": [
        {
          "output_type": "execute_result",
          "data": {
            "text/plain": [
              "(PassengerId      0\n",
              " Survived         0\n",
              " Pclass           0\n",
              " Name             0\n",
              " Sex              0\n",
              " Age            177\n",
              " SibSp            0\n",
              " Parch            0\n",
              " Ticket           0\n",
              " Fare             0\n",
              " Cabin          687\n",
              " Embarked         2\n",
              " dtype: int64,\n",
              " PassengerId      0\n",
              " Pclass           0\n",
              " Name             0\n",
              " Sex              0\n",
              " Age             86\n",
              " SibSp            0\n",
              " Parch            0\n",
              " Ticket           0\n",
              " Fare             1\n",
              " Cabin          327\n",
              " Embarked         0\n",
              " dtype: int64)"
            ]
          },
          "metadata": {},
          "execution_count": 2
        }
      ]
    },
    {
      "cell_type": "markdown",
      "source": [
        "*TRAIN DATASET*\n",
        "\n",
        "From the above, we know that there are 177 missing values for Age, 687 missing values for Cabin and 2 missing values for Embarked.\n",
        "\n",
        "---\n",
        "\n",
        "*TEST DATASET*\n",
        "\n",
        "From the above, we know that there are 86 missing values for Age, 1 missing values for Fare and 327 missing values for Cabin."
      ],
      "metadata": {
        "id": "hb2w9zLV6lDy"
      }
    },
    {
      "cell_type": "code",
      "source": [
        "# We can fill missing 'Age' based on median values of each 'Pclass' group in both train and test sets\n",
        "train_data['Age'].fillna(train_data.groupby('Pclass')['Age'].transform('median'), inplace = True)\n",
        "test_data['Age'].fillna(test_data.groupby('Pclass')['Age'].transform('median'), inplace = True)\n",
        "\n",
        "# Filling missing 'Embarked' values in the training set with the mode (most frequent port)\n",
        "train_data['Embarked'].fillna(train_data['Embarked'].mode()[0])\n",
        "\n",
        "# Filling missing 'Fare' value in the test set with the median\n",
        "test_data['Fare'].fillna(test_data['Fare'].median())\n",
        "\n",
        "# For the 'Cabin' column, let's create a new feature 'HasCabin' which indicates whether a cabin number is present or not\n",
        "train_data['HasCabin'] = train_data['Cabin'].notnull().astype(int)\n",
        "test_data['HasCabin'] = test_data['Cabin'].notnull().astype(int)\n",
        "\n",
        "# Now, let's check if all missing values have been addressed\n",
        "train_missing_fixed = train_data.isnull().sum()\n",
        "test_missing_fixed = test_data.isnull().sum()\n",
        "\n",
        "train_missing_fixed, test_missing_fixed"
      ],
      "metadata": {
        "colab": {
          "base_uri": "https://localhost:8080/"
        },
        "id": "AyZOHkx04ype",
        "outputId": "5e3cf508-258e-496c-d713-ef5b5ebb09cb"
      },
      "execution_count": 6,
      "outputs": [
        {
          "output_type": "stream",
          "name": "stderr",
          "text": [
            "<ipython-input-6-ad2975116cce>:2: FutureWarning: A value is trying to be set on a copy of a DataFrame or Series through chained assignment using an inplace method.\n",
            "The behavior will change in pandas 3.0. This inplace method will never work because the intermediate object on which we are setting values always behaves as a copy.\n",
            "\n",
            "For example, when doing 'df[col].method(value, inplace=True)', try using 'df.method({col: value}, inplace=True)' or df[col] = df[col].method(value) instead, to perform the operation inplace on the original object.\n",
            "\n",
            "\n",
            "  train_data['Age'].fillna(train_data.groupby('Pclass')['Age'].transform('median'), inplace = True)\n",
            "<ipython-input-6-ad2975116cce>:3: FutureWarning: A value is trying to be set on a copy of a DataFrame or Series through chained assignment using an inplace method.\n",
            "The behavior will change in pandas 3.0. This inplace method will never work because the intermediate object on which we are setting values always behaves as a copy.\n",
            "\n",
            "For example, when doing 'df[col].method(value, inplace=True)', try using 'df.method({col: value}, inplace=True)' or df[col] = df[col].method(value) instead, to perform the operation inplace on the original object.\n",
            "\n",
            "\n",
            "  test_data['Age'].fillna(test_data.groupby('Pclass')['Age'].transform('median'), inplace = True)\n"
          ]
        },
        {
          "output_type": "execute_result",
          "data": {
            "text/plain": [
              "(PassengerId      0\n",
              " Survived         0\n",
              " Pclass           0\n",
              " Name             0\n",
              " Sex              0\n",
              " Age              0\n",
              " SibSp            0\n",
              " Parch            0\n",
              " Ticket           0\n",
              " Fare             0\n",
              " Cabin          687\n",
              " Embarked         0\n",
              " HasCabin         0\n",
              " dtype: int64,\n",
              " PassengerId      0\n",
              " Pclass           0\n",
              " Name             0\n",
              " Sex              0\n",
              " Age              0\n",
              " SibSp            0\n",
              " Parch            0\n",
              " Ticket           0\n",
              " Fare             0\n",
              " Cabin          327\n",
              " Embarked         0\n",
              " HasCabin         0\n",
              " dtype: int64)"
            ]
          },
          "metadata": {},
          "execution_count": 6
        }
      ]
    },
    {
      "cell_type": "markdown",
      "source": [
        "The missing values for age, fare and embarked has been filed.\n",
        "\n",
        "Despite 'Cabin' still having missing values, we have created a new column 'HasCabin' to indicate whether a cabin number is available."
      ],
      "metadata": {
        "id": "R2x12v82_1JX"
      }
    },
    {
      "cell_type": "code",
      "source": [],
      "metadata": {
        "id": "5EnjajQw4ynm"
      },
      "execution_count": null,
      "outputs": []
    },
    {
      "cell_type": "code",
      "source": [],
      "metadata": {
        "id": "cWHTuJPd4ylf"
      },
      "execution_count": null,
      "outputs": []
    },
    {
      "cell_type": "code",
      "source": [],
      "metadata": {
        "id": "_HSqVf174yjS"
      },
      "execution_count": null,
      "outputs": []
    }
  ]
}